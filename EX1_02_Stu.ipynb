{
  "nbformat": 4,
  "nbformat_minor": 0,
  "metadata": {
    "colab": {
      "provenance": [],
      "include_colab_link": true
    },
    "kernelspec": {
      "display_name": "Python 3",
      "language": "python",
      "name": "python3"
    },
    "language_info": {
      "codemirror_mode": {
        "name": "ipython",
        "version": 3
      },
      "file_extension": ".py",
      "mimetype": "text/x-python",
      "name": "python",
      "nbconvert_exporter": "python",
      "pygments_lexer": "ipython3",
      "version": "3.6.9"
    }
  },
  "cells": [
    {
      "cell_type": "markdown",
      "metadata": {
        "id": "view-in-github",
        "colab_type": "text"
      },
      "source": [
        "<a href=\"https://colab.research.google.com/github/tseng91301/110-AI_learning/blob/main/EX1_02_Stu.ipynb\" target=\"_parent\"><img src=\"https://colab.research.google.com/assets/colab-badge.svg\" alt=\"Open In Colab\"/></a>"
      ]
    },
    {
      "cell_type": "markdown",
      "metadata": {
        "id": "lEOn8uiKi_1U"
      },
      "source": [
        "# 實作02：利用梯度下降法逼近多項式函數最小值"
      ]
    },
    {
      "cell_type": "markdown",
      "metadata": {
        "id": "bV3mbcT7jBpE"
      },
      "source": [
        "### (0)掛載雲端硬碟"
      ]
    },
    {
      "cell_type": "code",
      "metadata": {
        "colab": {
          "base_uri": "https://localhost:8080/"
        },
        "id": "UUuh_3LCjOWX",
        "outputId": "f4cf8444-7017-46df-acf9-90cfd4aa5895"
      },
      "source": [
        "from google.colab import drive\n",
        "drive.mount('/content/drive')"
      ],
      "execution_count": null,
      "outputs": [
        {
          "output_type": "stream",
          "text": [
            "Mounted at /content/drive\n"
          ],
          "name": "stdout"
        }
      ]
    },
    {
      "cell_type": "markdown",
      "metadata": {
        "id": "XK15rXCJi_1W"
      },
      "source": [
        "### (1)import必要的套件"
      ]
    },
    {
      "cell_type": "code",
      "metadata": {
        "id": "q5UQvol4i_1Y"
      },
      "source": [
        "import numpy as np\n",
        "import matplotlib.pyplot as plt\n",
        "import matplotlib.font_manager as plt_font\n",
        "twfont1 = plt_font.FontProperties(fname=\"drive/My Drive/colab/kaiu.ttf\")\n",
        "#動態顯示套件\n",
        "from IPython import display"
      ],
      "execution_count": null,
      "outputs": []
    },
    {
      "cell_type": "markdown",
      "metadata": {
        "id": "Z0Lw6MRii_1d"
      },
      "source": [
        "### (2)定義多項式函數f(x)=x<sup>4</sup>-38x<sup>2</sup>-48x+24"
      ]
    },
    {
      "cell_type": "code",
      "metadata": {
        "id": "7547fM-Vi_1e"
      },
      "source": [
        "def F(x):\n",
        "    return x**4-38*x**2-48*x+24"
      ],
      "execution_count": null,
      "outputs": []
    },
    {
      "cell_type": "markdown",
      "metadata": {
        "id": "S82FyEeVi_1i"
      },
      "source": [
        "### (3)定義原函數的導函數f'(x)=4x<sup>3</sup>-76x-48"
      ]
    },
    {
      "cell_type": "code",
      "metadata": {
        "id": "_DANlOdAi_1k"
      },
      "source": [
        "def F1(x):\n",
        "    return 4*x**3-76*x-48"
      ],
      "execution_count": null,
      "outputs": []
    },
    {
      "cell_type": "markdown",
      "metadata": {
        "id": "SML5hrBei_1p"
      },
      "source": [
        "### (4)利用梯度下降找函數的極小值"
      ]
    },
    {
      "cell_type": "code",
      "metadata": {
        "id": "hi0s01WVi_1u"
      },
      "source": [
        "#設定step_x、step_y用來儲存梯度下降每一步的座標\n",
        "step_x=[]\n",
        "step_y=[]\n",
        "#設定學習率，可以調大或調小，觀察梯度下降情況\n",
        "ETA=0.001\n",
        "#設定梯度下降的起點，可以改變不同位置，觀察梯度下降情況\n",
        "x_point=-6\n",
        "v=0\n",
        "#開始梯度下降\n",
        "for i in range(100):\n",
        "  step_x.append(x_point)\n",
        "  step_y.append(F(x_point))\n",
        "  #利用梯度下降更新下一個x_point\n",
        "  v=v*0.95+(-ETA*F1(x_point))\n",
        "  x_point=x_point+v"
      ],
      "execution_count": null,
      "outputs": []
    },
    {
      "cell_type": "markdown",
      "metadata": {
        "id": "pxNxJ6_4i_1y"
      },
      "source": [
        "### (5)用動畫一步一步展示梯度下降的更新情況"
      ]
    },
    {
      "cell_type": "code",
      "metadata": {
        "colab": {
          "base_uri": "https://localhost:8080/",
          "height": 395
        },
        "id": "Guigxe7Si_1y",
        "outputId": "d803f9dc-6808-4230-9f5a-4b9358216b2f"
      },
      "source": [
        "for i in range(len(step_x)):\n",
        "  plt.figure(figsize=(12,6))\n",
        "  plt.title(\"動畫顯示梯度下降的移動路徑\",fontproperties=twfont1,fontsize=20) \n",
        "  x = np.linspace(-7,7, 1000)\n",
        "  plt.plot(x, F(x))\n",
        "  #畫出梯度下降的修正路徑點\n",
        "  plt.plot(step_x[i],step_y[i],'ro')\n",
        "  #暫停0.1秒\n",
        "  plt.pause(1)\n",
        "  #清除目前的顯示\n",
        "  display.clear_output(wait=True)"
      ],
      "execution_count": null,
      "outputs": [
        {
          "output_type": "display_data",
          "data": {
            "image/png": "[encoded data removed]",
            "text/plain": [
              "<Figure size 864x432 with 1 Axes>"
            ]
          },
          "metadata": {
            "tags": [],
            "needs_background": "light"
          }
        }
      ]
    },
    {
      "cell_type": "markdown",
      "metadata": {
        "id": "LehbAEOFi_12"
      },
      "source": [
        "### 進行下列實驗操作：\n",
        "#### (1)逐漸增加學習率ETA的值，觀察梯度下降法尋找最小值會有什麼變化？\n",
        "#### (2)逐漸減少學習率ETA的值，觀察梯度下降法尋找最小值會有什麼變化？\n",
        "#### (3)修改梯度下降x座標的起點x_point=-6，觀察梯度下降法尋找最小值會有什麼變化？"
      ]
    }
  ]
}